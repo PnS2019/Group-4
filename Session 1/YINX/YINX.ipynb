{
 "cells": [
  {
   "cell_type": "markdown",
   "metadata": {},
   "source": [
    "# Exercise 1"
   ]
  },
  {
   "cell_type": "code",
   "execution_count": 1,
   "metadata": {},
   "outputs": [],
   "source": [
    "import numpy as np\n",
    "from tensorflow.keras import backend as K\n",
    "import tensorflow as tf"
   ]
  },
  {
   "cell_type": "markdown",
   "metadata": {},
   "source": [
    "exercise 1"
   ]
  },
  {
   "cell_type": "code",
   "execution_count": null,
   "metadata": {},
   "outputs": [],
   "source": [
    "a = b = c = K.placeholder(shape=(5,))\n",
    "expression1 = a ** 2 + b ** 2 + c ** 2 + 2 * b * c\n",
    "function1 = K.function(inputs=(a, b, c), outputs=(expression1,))\n",
    "\n",
    "print(function1((np.arange(5), np.arange(5), np.arange(5))))"
   ]
  },
  {
   "cell_type": "markdown",
   "metadata": {},
   "source": [
    "exercise 2"
   ]
  },
  {
   "cell_type": "code",
   "execution_count": 2,
   "metadata": {},
   "outputs": [
    {
     "name": "stdout",
     "output_type": "stream",
     "text": [
      "[nan]\n",
      "[0.4199744]\n",
      "[1.0]\n",
      "[0.41997433]\n",
      "[nan]\n"
     ]
    }
   ],
   "source": [
    "x = K.placeholder(shape=())\n",
    "tanh = (K.exp(x) - K.exp(-x)) / (K.exp(x) + K.exp(-x))\n",
    "grad_tensor = K.gradients(loss=tanh, variables=[x])\n",
    "grad_functions1 = K.function(inputs=[x], outputs=[grad_tensor[0]])\n",
    "print(grad_functions1([-100]))\n",
    "print(grad_functions1([-1]))\n",
    "print(grad_functions1([0]))\n",
    "print(grad_functions1([1]))\n",
    "print(grad_functions1([100]))"
   ]
  },
  {
   "cell_type": "markdown",
   "metadata": {},
   "source": [
    "exercise 3"
   ]
  },
  {
   "cell_type": "code",
   "execution_count": 3,
   "metadata": {},
   "outputs": [
    {
     "name": "stdout",
     "output_type": "stream",
     "text": [
      "[array([0.01766271, 0.03532541], dtype=float32)]\n"
     ]
    }
   ],
   "source": [
    "w = K.ones(shape=(2,))\n",
    "b = K.ones(shape=(1,))\n",
    "x = K.placeholder(shape=(2,))\n",
    "\n",
    "f = 1 / (1 + K.exp(-(w[0] * x[0] + w[1] * x[1] + b)))\n",
    "\n",
    "grad_tensor = K.gradients(loss=f, variables=[w])\n",
    "grad_functions2 = K.function(inputs=(x,), outputs=(grad_tensor[0],))\n",
    "\n",
    "\n",
    "print(grad_functions2((np.array([1,2]),)))"
   ]
  },
  {
   "cell_type": "markdown",
   "metadata": {},
   "source": [
    "exercise 4"
   ]
  },
  {
   "cell_type": "code",
   "execution_count": 18,
   "metadata": {},
   "outputs": [
    {
     "name": "stdout",
     "output_type": "stream",
     "text": [
      "[array([1.000e+00, 4.000e+00, 1.600e+01, 6.400e+01, 2.560e+02, 1.024e+03,\n",
      "       4.096e+03], dtype=float32)]\n"
     ]
    }
   ],
   "source": [
    "n = np.random.randint(low=1, high=10)\n",
    "x = K.placeholder(shape=())\n",
    "coeff = K.ones(shape=(n+1,))\n",
    "poly = 0\n",
    "for i in range(n+1):\n",
    "    poly += coeff[i] * (x ** i)\n",
    "grad_4 = K.gradients(loss=poly, variables=coeff)\n",
    "grad_4_functions = K.function(inputs=(x,), outputs=(grad_4))\n",
    "print(grad_4_functions((4,)))"
   ]
  }
 ],
 "metadata": {
  "kernelspec": {
   "display_name": "Python 3",
   "language": "python",
   "name": "python3"
  },
  "language_info": {
   "codemirror_mode": {
    "name": "ipython",
    "version": 3
   },
   "file_extension": ".py",
   "mimetype": "text/x-python",
   "name": "python",
   "nbconvert_exporter": "python",
   "pygments_lexer": "ipython3",
   "version": "3.6.8"
  }
 },
 "nbformat": 4,
 "nbformat_minor": 2
}
